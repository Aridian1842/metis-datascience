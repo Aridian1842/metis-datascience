{
 "cells": [
  {
   "cell_type": "markdown",
   "metadata": {},
   "source": [
    "### Metis Data Science Bootcamp - Final Project  \n",
    "### Topic:  Prescription Drug Abuse in America  \n",
    "This notebook contains the analysis of two years (2013-2014) of data from the National Survey on Drug Use and Health (NSDUH), the largest nationwide survey of substance abuse and mental health topics.  \n",
    "Citation:  United States Department of Health and Human Services. Substance Abuse and Mental Health Services Administration. Center for Behavioral Health Statistics and Quality. National Survey on Drug Use and Health, 2013 and 2014.  "
   ]
  },
  {
   "cell_type": "code",
   "execution_count": 1,
   "metadata": {
    "collapsed": true
   },
   "outputs": [],
   "source": [
    "import numpy as np\n",
    "import pandas as pd\n",
    "\n",
    "from sklearn import cross_validation\n",
    "from sklearn.cross_validation import train_test_split, cross_val_score, StratifiedShuffleSplit\n",
    "from sklearn.feature_selection import RFE, SelectKBest, chi2\n",
    "from sklearn.neighbors import KNeighborsClassifier\n",
    "from sklearn.linear_model import LogisticRegression\n",
    "from sklearn import svm\n",
    "from sklearn import tree\n",
    "from sklearn.naive_bayes import GaussianNB\n",
    "from sklearn.svm import SVC\n",
    "from sklearn.tree import DecisionTreeClassifier\n",
    "from sklearn.ensemble import RandomForestClassifier, GradientBoostingClassifier\n",
    "from sklearn.metrics import (accuracy_score, precision_score, recall_score, f1_score,\n",
    "roc_auc_score, roc_curve, auc, classification_report, confusion_matrix)\n",
    "from sklearn.grid_search import GridSearchCV\n",
    "\n",
    "import xgboost as xgb\n",
    "from xgboost.sklearn import XGBClassifier\n",
    "\n",
    "import matplotlib.pyplot as plt\n",
    "import seaborn as sns\n",
    "%matplotlib inline"
   ]
  },
  {
   "cell_type": "markdown",
   "metadata": {},
   "source": [
    "#### Import the data for preprocessing and cleaning"
   ]
  },
  {
   "cell_type": "code",
   "execution_count": 2,
   "metadata": {
    "collapsed": true
   },
   "outputs": [],
   "source": [
    "master2013DF = pd.read_table('2013_nsduh.tsv')\n",
    "master2014DF = pd.read_table('2014_nsduh.tsv')"
   ]
  },
  {
   "cell_type": "code",
   "execution_count": 3,
   "metadata": {
    "collapsed": false
   },
   "outputs": [
    {
     "data": {
      "text/html": [
       "<div>\n",
       "<table border=\"1\" class=\"dataframe\">\n",
       "  <thead>\n",
       "    <tr style=\"text-align: right;\">\n",
       "      <th></th>\n",
       "      <th>CASEID</th>\n",
       "      <th>QUESTID2</th>\n",
       "      <th>CIGEVER</th>\n",
       "      <th>CIGOFRSM</th>\n",
       "      <th>CIGWILYR</th>\n",
       "      <th>CIGTRY</th>\n",
       "      <th>CIGYFU</th>\n",
       "      <th>CIGMFU</th>\n",
       "      <th>CIGREC</th>\n",
       "      <th>CIG30USE</th>\n",
       "      <th>...</th>\n",
       "      <th>WORKRAND</th>\n",
       "      <th>EMPSTATY</th>\n",
       "      <th>IIEMPSTY</th>\n",
       "      <th>II2EMSTY</th>\n",
       "      <th>EMPSTAT4</th>\n",
       "      <th>IIEMPST4</th>\n",
       "      <th>II2EMST4</th>\n",
       "      <th>PDEN00</th>\n",
       "      <th>COUTYP2</th>\n",
       "      <th>MAIIN002</th>\n",
       "    </tr>\n",
       "  </thead>\n",
       "  <tbody>\n",
       "    <tr>\n",
       "      <th>55155</th>\n",
       "      <td>55156</td>\n",
       "      <td>13675473</td>\n",
       "      <td>2</td>\n",
       "      <td>99</td>\n",
       "      <td>99</td>\n",
       "      <td>991</td>\n",
       "      <td>9991</td>\n",
       "      <td>91</td>\n",
       "      <td>91</td>\n",
       "      <td>91</td>\n",
       "      <td>...</td>\n",
       "      <td>3</td>\n",
       "      <td>2</td>\n",
       "      <td>1</td>\n",
       "      <td>1</td>\n",
       "      <td>2</td>\n",
       "      <td>1</td>\n",
       "      <td>1</td>\n",
       "      <td>3</td>\n",
       "      <td>3</td>\n",
       "      <td>2</td>\n",
       "    </tr>\n",
       "    <tr>\n",
       "      <th>55156</th>\n",
       "      <td>55157</td>\n",
       "      <td>49609908</td>\n",
       "      <td>1</td>\n",
       "      <td>99</td>\n",
       "      <td>99</td>\n",
       "      <td>16</td>\n",
       "      <td>9999</td>\n",
       "      <td>99</td>\n",
       "      <td>4</td>\n",
       "      <td>93</td>\n",
       "      <td>...</td>\n",
       "      <td>3</td>\n",
       "      <td>1</td>\n",
       "      <td>1</td>\n",
       "      <td>1</td>\n",
       "      <td>1</td>\n",
       "      <td>1</td>\n",
       "      <td>1</td>\n",
       "      <td>2</td>\n",
       "      <td>2</td>\n",
       "      <td>2</td>\n",
       "    </tr>\n",
       "    <tr>\n",
       "      <th>55157</th>\n",
       "      <td>55158</td>\n",
       "      <td>81795924</td>\n",
       "      <td>2</td>\n",
       "      <td>99</td>\n",
       "      <td>99</td>\n",
       "      <td>991</td>\n",
       "      <td>9991</td>\n",
       "      <td>91</td>\n",
       "      <td>91</td>\n",
       "      <td>91</td>\n",
       "      <td>...</td>\n",
       "      <td>99</td>\n",
       "      <td>4</td>\n",
       "      <td>1</td>\n",
       "      <td>1</td>\n",
       "      <td>4</td>\n",
       "      <td>1</td>\n",
       "      <td>1</td>\n",
       "      <td>3</td>\n",
       "      <td>3</td>\n",
       "      <td>2</td>\n",
       "    </tr>\n",
       "    <tr>\n",
       "      <th>55158</th>\n",
       "      <td>55159</td>\n",
       "      <td>17198338</td>\n",
       "      <td>2</td>\n",
       "      <td>4</td>\n",
       "      <td>4</td>\n",
       "      <td>991</td>\n",
       "      <td>9991</td>\n",
       "      <td>91</td>\n",
       "      <td>91</td>\n",
       "      <td>91</td>\n",
       "      <td>...</td>\n",
       "      <td>99</td>\n",
       "      <td>99</td>\n",
       "      <td>9</td>\n",
       "      <td>9</td>\n",
       "      <td>99</td>\n",
       "      <td>9</td>\n",
       "      <td>9</td>\n",
       "      <td>1</td>\n",
       "      <td>1</td>\n",
       "      <td>2</td>\n",
       "    </tr>\n",
       "    <tr>\n",
       "      <th>55159</th>\n",
       "      <td>55160</td>\n",
       "      <td>55989934</td>\n",
       "      <td>2</td>\n",
       "      <td>99</td>\n",
       "      <td>99</td>\n",
       "      <td>991</td>\n",
       "      <td>9991</td>\n",
       "      <td>91</td>\n",
       "      <td>91</td>\n",
       "      <td>91</td>\n",
       "      <td>...</td>\n",
       "      <td>3</td>\n",
       "      <td>1</td>\n",
       "      <td>1</td>\n",
       "      <td>1</td>\n",
       "      <td>1</td>\n",
       "      <td>1</td>\n",
       "      <td>1</td>\n",
       "      <td>3</td>\n",
       "      <td>3</td>\n",
       "      <td>2</td>\n",
       "    </tr>\n",
       "  </tbody>\n",
       "</table>\n",
       "<p>5 rows × 3138 columns</p>\n",
       "</div>"
      ],
      "text/plain": [
       "       CASEID  QUESTID2  CIGEVER  CIGOFRSM  CIGWILYR  CIGTRY  CIGYFU  CIGMFU  \\\n",
       "55155   55156  13675473        2        99        99     991    9991      91   \n",
       "55156   55157  49609908        1        99        99      16    9999      99   \n",
       "55157   55158  81795924        2        99        99     991    9991      91   \n",
       "55158   55159  17198338        2         4         4     991    9991      91   \n",
       "55159   55160  55989934        2        99        99     991    9991      91   \n",
       "\n",
       "       CIGREC  CIG30USE    ...     WORKRAND  EMPSTATY  IIEMPSTY  II2EMSTY  \\\n",
       "55155      91        91    ...            3         2         1         1   \n",
       "55156       4        93    ...            3         1         1         1   \n",
       "55157      91        91    ...           99         4         1         1   \n",
       "55158      91        91    ...           99        99         9         9   \n",
       "55159      91        91    ...            3         1         1         1   \n",
       "\n",
       "       EMPSTAT4  IIEMPST4  II2EMST4  PDEN00  COUTYP2  MAIIN002  \n",
       "55155         2         1         1       3        3         2  \n",
       "55156         1         1         1       2        2         2  \n",
       "55157         4         1         1       3        3         2  \n",
       "55158        99         9         9       1        1         2  \n",
       "55159         1         1         1       3        3         2  \n",
       "\n",
       "[5 rows x 3138 columns]"
      ]
     },
     "execution_count": 3,
     "metadata": {},
     "output_type": "execute_result"
    }
   ],
   "source": [
    "master2013DF.tail()"
   ]
  },
  {
   "cell_type": "code",
   "execution_count": 4,
   "metadata": {
    "collapsed": false
   },
   "outputs": [
    {
     "data": {
      "text/html": [
       "<div>\n",
       "<table border=\"1\" class=\"dataframe\">\n",
       "  <thead>\n",
       "    <tr style=\"text-align: right;\">\n",
       "      <th></th>\n",
       "      <th>CASEID</th>\n",
       "      <th>QUESTID2</th>\n",
       "      <th>CIGEVER</th>\n",
       "      <th>CIGOFRSM</th>\n",
       "      <th>CIGWILYR</th>\n",
       "      <th>CIGTRY</th>\n",
       "      <th>CIGYFU</th>\n",
       "      <th>CIGMFU</th>\n",
       "      <th>CIGREC</th>\n",
       "      <th>CIG30USE</th>\n",
       "      <th>...</th>\n",
       "      <th>WORKRAND</th>\n",
       "      <th>EMPSTATY</th>\n",
       "      <th>IIEMPSTY</th>\n",
       "      <th>II2EMSTY</th>\n",
       "      <th>EMPSTAT4</th>\n",
       "      <th>IIEMPST4</th>\n",
       "      <th>II2EMST4</th>\n",
       "      <th>PDEN10</th>\n",
       "      <th>COUTYP2</th>\n",
       "      <th>MAIIN102</th>\n",
       "    </tr>\n",
       "  </thead>\n",
       "  <tbody>\n",
       "    <tr>\n",
       "      <th>0</th>\n",
       "      <td>1</td>\n",
       "      <td>85314767</td>\n",
       "      <td>1</td>\n",
       "      <td>99</td>\n",
       "      <td>99</td>\n",
       "      <td>16</td>\n",
       "      <td>9999</td>\n",
       "      <td>99</td>\n",
       "      <td>4</td>\n",
       "      <td>93</td>\n",
       "      <td>...</td>\n",
       "      <td>99</td>\n",
       "      <td>4</td>\n",
       "      <td>1</td>\n",
       "      <td>1</td>\n",
       "      <td>4</td>\n",
       "      <td>1</td>\n",
       "      <td>1</td>\n",
       "      <td>2</td>\n",
       "      <td>2</td>\n",
       "      <td>2</td>\n",
       "    </tr>\n",
       "    <tr>\n",
       "      <th>1</th>\n",
       "      <td>2</td>\n",
       "      <td>16240983</td>\n",
       "      <td>1</td>\n",
       "      <td>99</td>\n",
       "      <td>99</td>\n",
       "      <td>16</td>\n",
       "      <td>9999</td>\n",
       "      <td>99</td>\n",
       "      <td>1</td>\n",
       "      <td>1</td>\n",
       "      <td>...</td>\n",
       "      <td>3</td>\n",
       "      <td>2</td>\n",
       "      <td>1</td>\n",
       "      <td>1</td>\n",
       "      <td>2</td>\n",
       "      <td>1</td>\n",
       "      <td>1</td>\n",
       "      <td>1</td>\n",
       "      <td>1</td>\n",
       "      <td>2</td>\n",
       "    </tr>\n",
       "    <tr>\n",
       "      <th>2</th>\n",
       "      <td>3</td>\n",
       "      <td>95206287</td>\n",
       "      <td>2</td>\n",
       "      <td>99</td>\n",
       "      <td>99</td>\n",
       "      <td>991</td>\n",
       "      <td>9991</td>\n",
       "      <td>91</td>\n",
       "      <td>91</td>\n",
       "      <td>91</td>\n",
       "      <td>...</td>\n",
       "      <td>1</td>\n",
       "      <td>1</td>\n",
       "      <td>1</td>\n",
       "      <td>1</td>\n",
       "      <td>1</td>\n",
       "      <td>1</td>\n",
       "      <td>1</td>\n",
       "      <td>2</td>\n",
       "      <td>2</td>\n",
       "      <td>2</td>\n",
       "    </tr>\n",
       "    <tr>\n",
       "      <th>3</th>\n",
       "      <td>4</td>\n",
       "      <td>91546127</td>\n",
       "      <td>2</td>\n",
       "      <td>99</td>\n",
       "      <td>99</td>\n",
       "      <td>991</td>\n",
       "      <td>9991</td>\n",
       "      <td>91</td>\n",
       "      <td>91</td>\n",
       "      <td>91</td>\n",
       "      <td>...</td>\n",
       "      <td>3</td>\n",
       "      <td>1</td>\n",
       "      <td>1</td>\n",
       "      <td>1</td>\n",
       "      <td>1</td>\n",
       "      <td>1</td>\n",
       "      <td>1</td>\n",
       "      <td>1</td>\n",
       "      <td>1</td>\n",
       "      <td>2</td>\n",
       "    </tr>\n",
       "    <tr>\n",
       "      <th>4</th>\n",
       "      <td>5</td>\n",
       "      <td>43902390</td>\n",
       "      <td>2</td>\n",
       "      <td>99</td>\n",
       "      <td>99</td>\n",
       "      <td>991</td>\n",
       "      <td>9991</td>\n",
       "      <td>91</td>\n",
       "      <td>91</td>\n",
       "      <td>91</td>\n",
       "      <td>...</td>\n",
       "      <td>1</td>\n",
       "      <td>1</td>\n",
       "      <td>1</td>\n",
       "      <td>1</td>\n",
       "      <td>1</td>\n",
       "      <td>1</td>\n",
       "      <td>1</td>\n",
       "      <td>1</td>\n",
       "      <td>1</td>\n",
       "      <td>2</td>\n",
       "    </tr>\n",
       "  </tbody>\n",
       "</table>\n",
       "<p>5 rows × 3142 columns</p>\n",
       "</div>"
      ],
      "text/plain": [
       "   CASEID  QUESTID2  CIGEVER  CIGOFRSM  CIGWILYR  CIGTRY  CIGYFU  CIGMFU  \\\n",
       "0       1  85314767        1        99        99      16    9999      99   \n",
       "1       2  16240983        1        99        99      16    9999      99   \n",
       "2       3  95206287        2        99        99     991    9991      91   \n",
       "3       4  91546127        2        99        99     991    9991      91   \n",
       "4       5  43902390        2        99        99     991    9991      91   \n",
       "\n",
       "   CIGREC  CIG30USE    ...     WORKRAND  EMPSTATY  IIEMPSTY  II2EMSTY  \\\n",
       "0       4        93    ...           99         4         1         1   \n",
       "1       1         1    ...            3         2         1         1   \n",
       "2      91        91    ...            1         1         1         1   \n",
       "3      91        91    ...            3         1         1         1   \n",
       "4      91        91    ...            1         1         1         1   \n",
       "\n",
       "   EMPSTAT4  IIEMPST4  II2EMST4  PDEN10  COUTYP2  MAIIN102  \n",
       "0         4         1         1       2        2         2  \n",
       "1         2         1         1       1        1         2  \n",
       "2         1         1         1       2        2         2  \n",
       "3         1         1         1       1        1         2  \n",
       "4         1         1         1       1        1         2  \n",
       "\n",
       "[5 rows x 3142 columns]"
      ]
     },
     "execution_count": 4,
     "metadata": {},
     "output_type": "execute_result"
    }
   ],
   "source": [
    "master2014DF.head()"
   ]
  },
  {
   "cell_type": "code",
   "execution_count": 5,
   "metadata": {
    "collapsed": true
   },
   "outputs": [],
   "source": [
    "badvalues = [81, 85, 94, 97, 98, 99, 994, 997, 998]\n",
    "cols_to_keep = ['CIGEVER', 'ALCEVER', 'ANLEVER', 'AGE2', 'GOVTPROG', 'INCOME', 'POVERTY2', 'ANYHLTI2','SERVICE',\n",
    "                'IRSEX', 'IRMARIT', 'NEWRACE2', 'EDUCCAT2', 'HEALTH', 'MOVEPYR2', 'EMPSTATY', 'COUTYP2', 'SNRLGIMP',\n",
    "                'DSTNRV30', 'ADDPREV', 'RKFQRSKY']"
   ]
  },
  {
   "cell_type": "code",
   "execution_count": 6,
   "metadata": {
    "collapsed": true
   },
   "outputs": [],
   "source": [
    "# Define a function to pre-process and clean the dataframes\n",
    "def pandas_cleaner(dataframe, badvalues, cols_to_keep):\n",
    "    # Remove leading whitespace from column names\n",
    "    dataframe.rename(columns=lambda x: x.strip(), inplace=True)\n",
    "    # Remove bad value from the ANLEVER column\n",
    "    dataframe.ANLEVER = dataframe.ANLEVER.replace(91, 0)\n",
    "    # Remove bad values (blanks, skips, NaNs, etc.) from specific columns\n",
    "    dataframe = dataframe[~dataframe.ANLEVER.isin(badvalues)] \n",
    "    dataframe = dataframe[~dataframe.SERVICE.isin(badvalues)]\n",
    "    dataframe = dataframe[~dataframe.IRMARIT.isin(badvalues)]\n",
    "    dataframe = dataframe[~dataframe.HEALTH.isin(badvalues)]\n",
    "    dataframe = dataframe[~dataframe.ANYHLTI2.isin(badvalues)]\n",
    "    dataframe = dataframe[~dataframe.SNRLGIMP.isin(badvalues)]\n",
    "    dataframe = dataframe[~dataframe.DSTNRV30.isin(badvalues)]\n",
    "    dataframe = dataframe[~dataframe.ADDPREV.isin(badvalues)]\n",
    "    dataframe = dataframe[~dataframe.RKFQRSKY.isin(badvalues)]\n",
    "    # Remove all columns except for the columns of interest\n",
    "    dataframe = dataframe[cols_to_keep]\n",
    "    return dataframe"
   ]
  },
  {
   "cell_type": "code",
   "execution_count": 7,
   "metadata": {
    "collapsed": false
   },
   "outputs": [],
   "source": [
    "new2013DF = pandas_cleaner(master2013DF, badvalues, cols_to_keep)"
   ]
  },
  {
   "cell_type": "code",
   "execution_count": 8,
   "metadata": {
    "collapsed": true
   },
   "outputs": [],
   "source": [
    "new2014DF = pandas_cleaner(master2014DF, badvalues, cols_to_keep)"
   ]
  },
  {
   "cell_type": "markdown",
   "metadata": {},
   "source": [
    "#### Check the value counts for the feature we will be using as our y variable (regressand, what we're predicting). ANLEVER is the response to the question in the survey: \"Have you ever used prescription drugs non-medically?\".  "
   ]
  },
  {
   "cell_type": "code",
   "execution_count": 9,
   "metadata": {
    "collapsed": false
   },
   "outputs": [
    {
     "data": {
      "text/plain": [
       "0    29664\n",
       "1     6559\n",
       "Name: ANLEVER, dtype: int64"
      ]
     },
     "execution_count": 9,
     "metadata": {},
     "output_type": "execute_result"
    }
   ],
   "source": [
    "\n",
    "new2013DF['ANLEVER'].value_counts()"
   ]
  },
  {
   "cell_type": "code",
   "execution_count": 10,
   "metadata": {
    "collapsed": false
   },
   "outputs": [
    {
     "data": {
      "text/plain": [
       "0    33501\n",
       "1     6752\n",
       "Name: ANLEVER, dtype: int64"
      ]
     },
     "execution_count": 10,
     "metadata": {},
     "output_type": "execute_result"
    }
   ],
   "source": [
    "new2014DF['ANLEVER'].value_counts()"
   ]
  },
  {
   "cell_type": "markdown",
   "metadata": {},
   "source": [
    "#### Merge the two cleaned datasets together.  "
   ]
  },
  {
   "cell_type": "code",
   "execution_count": 11,
   "metadata": {
    "collapsed": false
   },
   "outputs": [],
   "source": [
    "cleanDF = new2013DF.append(new2014DF, ignore_index=True)"
   ]
  },
  {
   "cell_type": "code",
   "execution_count": 12,
   "metadata": {
    "collapsed": false
   },
   "outputs": [
    {
     "data": {
      "text/plain": [
       "0    63165\n",
       "1    13311\n",
       "Name: ANLEVER, dtype: int64"
      ]
     },
     "execution_count": 12,
     "metadata": {},
     "output_type": "execute_result"
    }
   ],
   "source": [
    "cleanDF['ANLEVER'].value_counts()"
   ]
  },
  {
   "cell_type": "markdown",
   "metadata": {},
   "source": [
    "### Modeling (Classification)\n",
    "**In this section, we perform apply various classification algorithms against a training data set to develop a model, test the model with a test data set, examine the results, and extract feature importance to see which features are most closely correlated with prescription drug abuse.**    "
   ]
  },
  {
   "cell_type": "code",
   "execution_count": 13,
   "metadata": {
    "collapsed": true
   },
   "outputs": [],
   "source": [
    "y = cleanDF.ANLEVER"
   ]
  },
  {
   "cell_type": "code",
   "execution_count": 14,
   "metadata": {
    "collapsed": false
   },
   "outputs": [
    {
     "data": {
      "text/plain": [
       "0    63165\n",
       "1    13311\n",
       "Name: ANLEVER, dtype: int64"
      ]
     },
     "execution_count": 14,
     "metadata": {},
     "output_type": "execute_result"
    }
   ],
   "source": [
    "y.value_counts()"
   ]
  },
  {
   "cell_type": "code",
   "execution_count": 15,
   "metadata": {
    "collapsed": true
   },
   "outputs": [],
   "source": [
    "cleanDF.drop('ANLEVER', axis=1, inplace=True)"
   ]
  },
  {
   "cell_type": "code",
   "execution_count": 16,
   "metadata": {
    "collapsed": true
   },
   "outputs": [],
   "source": [
    "X = cleanDF[['CIGEVER', 'ALCEVER', 'AGE2', 'GOVTPROG', 'INCOME', 'POVERTY2', 'ANYHLTI2','SERVICE','IRSEX', 'IRMARIT',\n",
    "             'NEWRACE2', 'EDUCCAT2', 'HEALTH', 'MOVEPYR2', 'EMPSTATY', 'COUTYP2', 'SNRLGIMP','DSTNRV30', 'ADDPREV',\n",
    "             'RKFQRSKY']]"
   ]
  },
  {
   "cell_type": "code",
   "execution_count": 17,
   "metadata": {
    "collapsed": false
   },
   "outputs": [
    {
     "data": {
      "text/plain": [
       "1"
      ]
     },
     "execution_count": 17,
     "metadata": {},
     "output_type": "execute_result"
    }
   ],
   "source": [
    "sss = StratifiedShuffleSplit(y, n_iter=1, test_size=0.3, random_state=4444)\n",
    "len(sss)"
   ]
  },
  {
   "cell_type": "code",
   "execution_count": 18,
   "metadata": {
    "collapsed": true
   },
   "outputs": [],
   "source": [
    "for train_index, test_index in sss:\n",
    "    X_train, X_test = X.iloc[train_index],X.iloc[test_index]\n",
    "    y_train, y_test = y[train_index], y[test_index]"
   ]
  },
  {
   "cell_type": "code",
   "execution_count": 20,
   "metadata": {
    "collapsed": false
   },
   "outputs": [],
   "source": [
    "models = [LogisticRegression(class_weight='balanced'), GaussianNB(), DecisionTreeClassifier(class_weight='balanced'), \n",
    "          RandomForestClassifier(class_weight='balanced', n_estimators=1000)]"
   ]
  },
  {
   "cell_type": "code",
   "execution_count": 21,
   "metadata": {
    "collapsed": true
   },
   "outputs": [],
   "source": [
    "# Define a function to fit the model for each classifier, predict using the test set and get accuracy, precision,\n",
    "# recall, and F1 scores to assess the models performance\n",
    "def score_machine(models, X_train, y_train, X_test, y_test):\n",
    "    for model in models:\n",
    "        model.fit(X_train, y_train)\n",
    "        model_name = str(model).split('(')[0]\n",
    "        print(model_name, \"Results\")\n",
    "        print(\"Accuracy score:\\t\", accuracy_score(y_test, model.predict(X_test)))\n",
    "        print(\"Precision:\\t\", precision_score(y_test, model.predict(X_test), pos_label=1, average='binary'))\n",
    "        print(\"Recall:\\t\\t\", recall_score(y_test, model.predict(X_test), pos_label=1, average='binary'))\n",
    "        print(\"F1 Score:\\t\", f1_score(y_test, model.predict(X_test), pos_label=1, average='binary'), '\\n')"
   ]
  },
  {
   "cell_type": "code",
   "execution_count": 22,
   "metadata": {
    "collapsed": false
   },
   "outputs": [
    {
     "name": "stdout",
     "output_type": "stream",
     "text": [
      "LogisticRegression Results\n",
      "Accuracy score:\t 0.673582356274\n",
      "Precision:\t 0.311434735707\n",
      "Recall:\t\t 0.723015276734\n",
      "F1 Score:\t 0.435346452537 \n",
      "\n",
      "GaussianNB Results\n",
      "Accuracy score:\t 0.670574903021\n",
      "Precision:\t 0.307151357784\n",
      "Recall:\t\t 0.71099423992\n",
      "F1 Score:\t 0.428981565428 \n",
      "\n",
      "DecisionTreeClassifier Results\n",
      "Accuracy score:\t 0.744366473434\n",
      "Precision:\t 0.27358490566\n",
      "Recall:\t\t 0.28324567994\n",
      "F1 Score:\t 0.278331487634 \n",
      "\n",
      "RandomForestClassifier Results\n",
      "Accuracy score:\t 0.820468116637\n",
      "Precision:\t 0.431670281996\n",
      "Recall:\t\t 0.0996744302529\n",
      "F1 Score:\t 0.161953204476 \n",
      "\n"
     ]
    }
   ],
   "source": [
    "score_machine(models, X_train, y_train, X_test, y_test)"
   ]
  },
  {
   "cell_type": "markdown",
   "metadata": {},
   "source": [
    "#### Try some out of the box Gradient Boosted Tree Classification"
   ]
  },
  {
   "cell_type": "code",
   "execution_count": 23,
   "metadata": {
    "collapsed": true
   },
   "outputs": [],
   "source": [
    "gradboost = GradientBoostingClassifier(loss='deviance', n_estimators=1000, max_depth=6, max_features='auto')"
   ]
  },
  {
   "cell_type": "code",
   "execution_count": 24,
   "metadata": {
    "collapsed": false
   },
   "outputs": [
    {
     "data": {
      "text/plain": [
       "GradientBoostingClassifier(init=None, learning_rate=0.1, loss='deviance',\n",
       "              max_depth=6, max_features='auto', max_leaf_nodes=None,\n",
       "              min_samples_leaf=1, min_samples_split=2,\n",
       "              min_weight_fraction_leaf=0.0, n_estimators=1000,\n",
       "              presort='auto', random_state=None, subsample=1.0, verbose=0,\n",
       "              warm_start=False)"
      ]
     },
     "execution_count": 24,
     "metadata": {},
     "output_type": "execute_result"
    }
   ],
   "source": [
    "gradboost.fit(X_train, y_train)"
   ]
  },
  {
   "cell_type": "code",
   "execution_count": 26,
   "metadata": {
    "collapsed": false
   },
   "outputs": [
    {
     "name": "stdout",
     "output_type": "stream",
     "text": [
      "Accuracy score:\t 0.816632524081\n",
      "Precision:\t 0.434194341943\n",
      "Recall:\t\t 0.176809416479\n"
     ]
    }
   ],
   "source": [
    "gradboost_predict = gradboost.predict(X_test)\n",
    "accuracy = accuracy_score(y_test, gradboost_predict)\n",
    "precision = precision_score(y_test, gradboost_predict, average='binary')\n",
    "recall = recall_score(y_test, gradboost_predict, average='binary')\n",
    "print(\"Accuracy score:\\t\", accuracy)\n",
    "print(\"Precision:\\t\", precision)\n",
    "print(\"Recall:\\t\\t\", recall)"
   ]
  },
  {
   "cell_type": "code",
   "execution_count": 27,
   "metadata": {
    "collapsed": false
   },
   "outputs": [
    {
     "name": "stdout",
     "output_type": "stream",
     "text": [
      "AUC:\t 0.726759890494\n"
     ]
    }
   ],
   "source": [
    "y_scores = gradboost.predict_proba(X_test)[:,1]\n",
    "fpr, tpr, thresholds = roc_curve(y_test, y_scores)\n",
    "auc = roc_auc_score(y_test, y_scores)\n",
    "print(\"AUC:\\t\", auc)"
   ]
  },
  {
   "cell_type": "code",
   "execution_count": 28,
   "metadata": {
    "collapsed": false
   },
   "outputs": [],
   "source": [
    "# Define a function that gets feature importance for the specific model passed as an argument to the function\n",
    "def rank_features(model):\n",
    "    # Get Feature Importance from the classifier\n",
    "    feature_importance = model.feature_importances_\n",
    "    # Normalize The Features\n",
    "    feature_importance = 100.0 * (feature_importance / feature_importance.max())\n",
    "    sorted_idx = np.argsort(feature_importance)\n",
    "    pos = np.arange(sorted_idx.shape[0]) + .5\n",
    "    plt.figure(figsize=(12, 8))\n",
    "    plt.barh(pos, feature_importance[sorted_idx], align='center')\n",
    "    plt.yticks(pos, np.asanyarray(cleanDF.columns.tolist())[sorted_idx])\n",
    "    plt.xlabel('Relative Importance')\n",
    "    plt.title('Feature Importance')\n",
    "    plt.show()"
   ]
  },
  {
   "cell_type": "code",
   "execution_count": 29,
   "metadata": {
    "collapsed": false
   },
   "outputs": [
    {
     "data": {
      "image/png": "[encoded data removed]",
      "text/plain": [
       "<matplotlib.figure.Figure at 0x1599629b0>"
      ]
     },
     "metadata": {},
     "output_type": "display_data"
    }
   ],
   "source": [
    "rank_features(gradboost)"
   ]
  },
  {
   "cell_type": "markdown",
   "metadata": {},
   "source": [
    "#### Perform Grid Search Cross-Validation to tune the hyperparameters on a given model to try to improve performance"
   ]
  },
  {
   "cell_type": "code",
   "execution_count": 30,
   "metadata": {
    "collapsed": false
   },
   "outputs": [
    {
     "data": {
      "text/plain": [
       "GridSearchCV(cv=5, error_score='raise',\n",
       "       estimator=GradientBoostingClassifier(init=None, learning_rate=0.1, loss='deviance',\n",
       "              max_depth=8, max_features='sqrt', max_leaf_nodes=None,\n",
       "              min_samples_leaf=50, min_samples_split=500,\n",
       "              min_weight_fraction_leaf=0.0, n_estimators=100,\n",
       "              presort='auto', random_state=10, subsample=0.8, verbose=0,\n",
       "              warm_start=False),\n",
       "       fit_params={}, iid=False, n_jobs=4,\n",
       "       param_grid={'n_estimators': [20, 30, 40, 50, 60, 70, 80]},\n",
       "       pre_dispatch='2*n_jobs', refit=True, scoring='roc_auc', verbose=0)"
      ]
     },
     "execution_count": 30,
     "metadata": {},
     "output_type": "execute_result"
    }
   ],
   "source": [
    "param_test1 = {'n_estimators': [20,30,40,50,60,70,80]}\n",
    "gsearch1 = GridSearchCV(estimator = GradientBoostingClassifier(learning_rate=0.1, min_samples_split=500,min_samples_leaf=50,max_depth=8,max_features='sqrt',subsample=0.8,random_state=10), \n",
    "param_grid = param_test1, scoring='roc_auc',n_jobs=4,iid=False, cv=5)\n",
    "gsearch1.fit(X_train, y_train)"
   ]
  },
  {
   "cell_type": "code",
   "execution_count": 31,
   "metadata": {
    "collapsed": false
   },
   "outputs": [
    {
     "data": {
      "text/plain": [
       "([mean: 0.75982, std: 0.00328, params: {'n_estimators': 20},\n",
       "  mean: 0.76137, std: 0.00367, params: {'n_estimators': 30},\n",
       "  mean: 0.76212, std: 0.00418, params: {'n_estimators': 40},\n",
       "  mean: 0.76234, std: 0.00428, params: {'n_estimators': 50},\n",
       "  mean: 0.76209, std: 0.00428, params: {'n_estimators': 60},\n",
       "  mean: 0.76172, std: 0.00450, params: {'n_estimators': 70},\n",
       "  mean: 0.76156, std: 0.00460, params: {'n_estimators': 80}],\n",
       " {'n_estimators': 50},\n",
       " 0.76234446294127367)"
      ]
     },
     "execution_count": 31,
     "metadata": {},
     "output_type": "execute_result"
    }
   ],
   "source": [
    "gsearch1.grid_scores_, gsearch1.best_params_, gsearch1.best_score_"
   ]
  },
  {
   "cell_type": "code",
   "execution_count": 32,
   "metadata": {
    "collapsed": false
   },
   "outputs": [
    {
     "data": {
      "text/plain": [
       "GridSearchCV(cv=5, error_score='raise',\n",
       "       estimator=GradientBoostingClassifier(init=None, learning_rate=0.1, loss='deviance',\n",
       "              max_depth=3, max_features='sqrt', max_leaf_nodes=None,\n",
       "              min_samples_leaf=1, min_samples_split=2,\n",
       "              min_weight_fraction_leaf=0.0, n_estimators=50,\n",
       "              presort='auto', random_state=10, subsample=0.8, verbose=0,\n",
       "              warm_start=False),\n",
       "       fit_params={}, iid=False, n_jobs=4,\n",
       "       param_grid={'max_depth': [5, 7, 9, 11, 13, 15], 'min_samples_split': [200, 400, 600, 800, 1000]},\n",
       "       pre_dispatch='2*n_jobs', refit=True, scoring='roc_auc', verbose=0)"
      ]
     },
     "execution_count": 32,
     "metadata": {},
     "output_type": "execute_result"
    }
   ],
   "source": [
    "param_test2 = {'max_depth': [5,7,9,11,13,15], 'min_samples_split': [200,400,600,800,1000]}\n",
    "gsearch2 = GridSearchCV(estimator = GradientBoostingClassifier(learning_rate=0.1, n_estimators=50, max_features='sqrt', subsample=0.8, random_state=10), \n",
    "param_grid = param_test2, scoring='roc_auc',n_jobs=4,iid=False, cv=5)\n",
    "gsearch2.fit(X_train, y_train)"
   ]
  },
  {
   "cell_type": "code",
   "execution_count": 33,
   "metadata": {
    "collapsed": false
   },
   "outputs": [
    {
     "data": {
      "text/plain": [
       "([mean: 0.76088, std: 0.00373, params: {'max_depth': 5, 'min_samples_split': 200},\n",
       "  mean: 0.76139, std: 0.00390, params: {'max_depth': 5, 'min_samples_split': 400},\n",
       "  mean: 0.76142, std: 0.00440, params: {'max_depth': 5, 'min_samples_split': 600},\n",
       "  mean: 0.76175, std: 0.00472, params: {'max_depth': 5, 'min_samples_split': 800},\n",
       "  mean: 0.76182, std: 0.00406, params: {'max_depth': 5, 'min_samples_split': 1000},\n",
       "  mean: 0.76172, std: 0.00404, params: {'max_depth': 7, 'min_samples_split': 200},\n",
       "  mean: 0.76210, std: 0.00485, params: {'max_depth': 7, 'min_samples_split': 400},\n",
       "  mean: 0.76230, std: 0.00447, params: {'max_depth': 7, 'min_samples_split': 600},\n",
       "  mean: 0.76121, std: 0.00448, params: {'max_depth': 7, 'min_samples_split': 800},\n",
       "  mean: 0.76242, std: 0.00432, params: {'max_depth': 7, 'min_samples_split': 1000},\n",
       "  mean: 0.75878, std: 0.00467, params: {'max_depth': 9, 'min_samples_split': 200},\n",
       "  mean: 0.76032, std: 0.00423, params: {'max_depth': 9, 'min_samples_split': 400},\n",
       "  mean: 0.76086, std: 0.00403, params: {'max_depth': 9, 'min_samples_split': 600},\n",
       "  mean: 0.76159, std: 0.00489, params: {'max_depth': 9, 'min_samples_split': 800},\n",
       "  mean: 0.76145, std: 0.00451, params: {'max_depth': 9, 'min_samples_split': 1000},\n",
       "  mean: 0.75551, std: 0.00447, params: {'max_depth': 11, 'min_samples_split': 200},\n",
       "  mean: 0.75840, std: 0.00421, params: {'max_depth': 11, 'min_samples_split': 400},\n",
       "  mean: 0.75983, std: 0.00460, params: {'max_depth': 11, 'min_samples_split': 600},\n",
       "  mean: 0.76107, std: 0.00478, params: {'max_depth': 11, 'min_samples_split': 800},\n",
       "  mean: 0.76144, std: 0.00429, params: {'max_depth': 11, 'min_samples_split': 1000},\n",
       "  mean: 0.75245, std: 0.00441, params: {'max_depth': 13, 'min_samples_split': 200},\n",
       "  mean: 0.75807, std: 0.00405, params: {'max_depth': 13, 'min_samples_split': 400},\n",
       "  mean: 0.75947, std: 0.00419, params: {'max_depth': 13, 'min_samples_split': 600},\n",
       "  mean: 0.76115, std: 0.00431, params: {'max_depth': 13, 'min_samples_split': 800},\n",
       "  mean: 0.76134, std: 0.00423, params: {'max_depth': 13, 'min_samples_split': 1000},\n",
       "  mean: 0.75159, std: 0.00489, params: {'max_depth': 15, 'min_samples_split': 200},\n",
       "  mean: 0.75685, std: 0.00515, params: {'max_depth': 15, 'min_samples_split': 400},\n",
       "  mean: 0.75947, std: 0.00389, params: {'max_depth': 15, 'min_samples_split': 600},\n",
       "  mean: 0.76102, std: 0.00461, params: {'max_depth': 15, 'min_samples_split': 800},\n",
       "  mean: 0.76136, std: 0.00404, params: {'max_depth': 15, 'min_samples_split': 1000}],\n",
       " {'max_depth': 7, 'min_samples_split': 1000},\n",
       " 0.76242094377115288)"
      ]
     },
     "execution_count": 33,
     "metadata": {},
     "output_type": "execute_result"
    }
   ],
   "source": [
    "gsearch2.grid_scores_, gsearch2.best_params_, gsearch2.best_score_"
   ]
  },
  {
   "cell_type": "code",
   "execution_count": 34,
   "metadata": {
    "collapsed": false
   },
   "outputs": [
    {
     "data": {
      "text/plain": [
       "GridSearchCV(cv=5, error_score='raise',\n",
       "       estimator=GradientBoostingClassifier(init=None, learning_rate=0.1, loss='deviance',\n",
       "              max_depth=7, max_features='sqrt', max_leaf_nodes=None,\n",
       "              min_samples_leaf=1, min_samples_split=2,\n",
       "              min_weight_fraction_leaf=0.0, n_estimators=50,\n",
       "              presort='auto', random_state=10, subsample=0.8, verbose=0,\n",
       "              warm_start=False),\n",
       "       fit_params={}, iid=False, n_jobs=4,\n",
       "       param_grid={'min_samples_leaf': [30, 40, 50, 60, 70], 'min_samples_split': [800, 1000, 1200, 1400, 1600, 1800]},\n",
       "       pre_dispatch='2*n_jobs', refit=True, scoring='roc_auc', verbose=0)"
      ]
     },
     "execution_count": 34,
     "metadata": {},
     "output_type": "execute_result"
    }
   ],
   "source": [
    "param_test3 = {'min_samples_split': [800,1000,1200,1400,1600,1800], 'min_samples_leaf': [30,40,50,60,70]}\n",
    "gsearch3 = GridSearchCV(estimator = GradientBoostingClassifier(learning_rate=0.1, n_estimators=50,max_depth=7,max_features='sqrt', subsample=0.8, random_state=10), \n",
    "param_grid = param_test3, scoring='roc_auc',n_jobs=4,iid=False, cv=5)\n",
    "gsearch3.fit(X_train, y_train)"
   ]
  },
  {
   "cell_type": "code",
   "execution_count": 35,
   "metadata": {
    "collapsed": false
   },
   "outputs": [
    {
     "data": {
      "text/plain": [
       "([mean: 0.76159, std: 0.00439, params: {'min_samples_leaf': 30, 'min_samples_split': 800},\n",
       "  mean: 0.76286, std: 0.00433, params: {'min_samples_leaf': 30, 'min_samples_split': 1000},\n",
       "  mean: 0.76212, std: 0.00435, params: {'min_samples_leaf': 30, 'min_samples_split': 1200},\n",
       "  mean: 0.76219, std: 0.00440, params: {'min_samples_leaf': 30, 'min_samples_split': 1400},\n",
       "  mean: 0.76209, std: 0.00407, params: {'min_samples_leaf': 30, 'min_samples_split': 1600},\n",
       "  mean: 0.76177, std: 0.00432, params: {'min_samples_leaf': 30, 'min_samples_split': 1800},\n",
       "  mean: 0.76170, std: 0.00444, params: {'min_samples_leaf': 40, 'min_samples_split': 800},\n",
       "  mean: 0.76252, std: 0.00425, params: {'min_samples_leaf': 40, 'min_samples_split': 1000},\n",
       "  mean: 0.76241, std: 0.00415, params: {'min_samples_leaf': 40, 'min_samples_split': 1200},\n",
       "  mean: 0.76217, std: 0.00425, params: {'min_samples_leaf': 40, 'min_samples_split': 1400},\n",
       "  mean: 0.76235, std: 0.00400, params: {'min_samples_leaf': 40, 'min_samples_split': 1600},\n",
       "  mean: 0.76239, std: 0.00401, params: {'min_samples_leaf': 40, 'min_samples_split': 1800},\n",
       "  mean: 0.76168, std: 0.00429, params: {'min_samples_leaf': 50, 'min_samples_split': 800},\n",
       "  mean: 0.76238, std: 0.00394, params: {'min_samples_leaf': 50, 'min_samples_split': 1000},\n",
       "  mean: 0.76280, std: 0.00442, params: {'min_samples_leaf': 50, 'min_samples_split': 1200},\n",
       "  mean: 0.76217, std: 0.00428, params: {'min_samples_leaf': 50, 'min_samples_split': 1400},\n",
       "  mean: 0.76208, std: 0.00393, params: {'min_samples_leaf': 50, 'min_samples_split': 1600},\n",
       "  mean: 0.76191, std: 0.00390, params: {'min_samples_leaf': 50, 'min_samples_split': 1800},\n",
       "  mean: 0.76143, std: 0.00439, params: {'min_samples_leaf': 60, 'min_samples_split': 800},\n",
       "  mean: 0.76218, std: 0.00421, params: {'min_samples_leaf': 60, 'min_samples_split': 1000},\n",
       "  mean: 0.76179, std: 0.00436, params: {'min_samples_leaf': 60, 'min_samples_split': 1200},\n",
       "  mean: 0.76224, std: 0.00390, params: {'min_samples_leaf': 60, 'min_samples_split': 1400},\n",
       "  mean: 0.76199, std: 0.00394, params: {'min_samples_leaf': 60, 'min_samples_split': 1600},\n",
       "  mean: 0.76203, std: 0.00411, params: {'min_samples_leaf': 60, 'min_samples_split': 1800},\n",
       "  mean: 0.76185, std: 0.00452, params: {'min_samples_leaf': 70, 'min_samples_split': 800},\n",
       "  mean: 0.76228, std: 0.00452, params: {'min_samples_leaf': 70, 'min_samples_split': 1000},\n",
       "  mean: 0.76209, std: 0.00466, params: {'min_samples_leaf': 70, 'min_samples_split': 1200},\n",
       "  mean: 0.76204, std: 0.00472, params: {'min_samples_leaf': 70, 'min_samples_split': 1400},\n",
       "  mean: 0.76224, std: 0.00412, params: {'min_samples_leaf': 70, 'min_samples_split': 1600},\n",
       "  mean: 0.76198, std: 0.00453, params: {'min_samples_leaf': 70, 'min_samples_split': 1800}],\n",
       " {'min_samples_leaf': 30, 'min_samples_split': 1000},\n",
       " 0.76286312556550206)"
      ]
     },
     "execution_count": 35,
     "metadata": {},
     "output_type": "execute_result"
    }
   ],
   "source": [
    "gsearch3.grid_scores_, gsearch3.best_params_, gsearch3.best_score_"
   ]
  },
  {
   "cell_type": "code",
   "execution_count": 36,
   "metadata": {
    "collapsed": false
   },
   "outputs": [
    {
     "data": {
      "text/plain": [
       "GridSearchCV(cv=5, error_score='raise',\n",
       "       estimator=GradientBoostingClassifier(init=None, learning_rate=0.1, loss='deviance',\n",
       "              max_depth=7, max_features=None, max_leaf_nodes=None,\n",
       "              min_samples_leaf=30, min_samples_split=1000,\n",
       "              min_weight_fraction_leaf=0.0, n_estimators=50,\n",
       "              presort='auto', random_state=10, subsample=0.8, verbose=0,\n",
       "              warm_start=False),\n",
       "       fit_params={}, iid=False, n_jobs=4,\n",
       "       param_grid={'max_features': [7, 9, 11, 13, 15]},\n",
       "       pre_dispatch='2*n_jobs', refit=True, scoring='roc_auc', verbose=0)"
      ]
     },
     "execution_count": 36,
     "metadata": {},
     "output_type": "execute_result"
    }
   ],
   "source": [
    "param_test4 = {'max_features': [7,9,11,13,15]}\n",
    "gsearch4 = GridSearchCV(estimator = GradientBoostingClassifier(learning_rate=0.1, n_estimators=50,max_depth=7, min_samples_split=1000, min_samples_leaf=30, subsample=0.8, random_state=10),\n",
    "param_grid = param_test4, scoring='roc_auc',n_jobs=4,iid=False, cv=5)\n",
    "gsearch4.fit(X_train, y_train)"
   ]
  },
  {
   "cell_type": "code",
   "execution_count": 37,
   "metadata": {
    "collapsed": false
   },
   "outputs": [
    {
     "data": {
      "text/plain": [
       "([mean: 0.76220, std: 0.00462, params: {'max_features': 7},\n",
       "  mean: 0.76169, std: 0.00456, params: {'max_features': 9},\n",
       "  mean: 0.76176, std: 0.00434, params: {'max_features': 11},\n",
       "  mean: 0.76103, std: 0.00461, params: {'max_features': 13},\n",
       "  mean: 0.76084, std: 0.00505, params: {'max_features': 15}],\n",
       " {'max_features': 7},\n",
       " 0.76220131741546671)"
      ]
     },
     "execution_count": 37,
     "metadata": {},
     "output_type": "execute_result"
    }
   ],
   "source": [
    "gsearch4.grid_scores_, gsearch4.best_params_, gsearch4.best_score_"
   ]
  },
  {
   "cell_type": "code",
   "execution_count": 38,
   "metadata": {
    "collapsed": false
   },
   "outputs": [
    {
     "data": {
      "text/plain": [
       "GridSearchCV(cv=5, error_score='raise',\n",
       "       estimator=GradientBoostingClassifier(init=None, learning_rate=0.1, loss='deviance',\n",
       "              max_depth=7, max_features=7, max_leaf_nodes=None,\n",
       "              min_samples_leaf=30, min_samples_split=1000,\n",
       "              min_weight_fraction_leaf=0.0, n_estimators=50,\n",
       "              presort='auto', random_state=10, subsample=0.8, verbose=0,\n",
       "              warm_start=False),\n",
       "       fit_params={}, iid=False, n_jobs=4,\n",
       "       param_grid={'subsample': [0.6, 0.7, 0.75, 0.8, 0.85, 0.9]},\n",
       "       pre_dispatch='2*n_jobs', refit=True, scoring='roc_auc', verbose=0)"
      ]
     },
     "execution_count": 38,
     "metadata": {},
     "output_type": "execute_result"
    }
   ],
   "source": [
    "param_test5 = {'subsample':[0.6,0.7,0.75,0.8,0.85,0.9]}\n",
    "gsearch5 = GridSearchCV(estimator = GradientBoostingClassifier(learning_rate=0.1, n_estimators=50,max_depth=7,min_samples_split=1000, min_samples_leaf=30, subsample=0.8, random_state=10,max_features=7),\n",
    "param_grid = param_test5, scoring='roc_auc',n_jobs=4,iid=False, cv=5)\n",
    "gsearch5.fit(X_train, y_train)"
   ]
  },
  {
   "cell_type": "code",
   "execution_count": 39,
   "metadata": {
    "collapsed": false
   },
   "outputs": [
    {
     "data": {
      "text/plain": [
       "([mean: 0.76161, std: 0.00440, params: {'subsample': 0.6},\n",
       "  mean: 0.76210, std: 0.00393, params: {'subsample': 0.7},\n",
       "  mean: 0.76221, std: 0.00479, params: {'subsample': 0.75},\n",
       "  mean: 0.76220, std: 0.00462, params: {'subsample': 0.8},\n",
       "  mean: 0.76115, std: 0.00425, params: {'subsample': 0.85},\n",
       "  mean: 0.76232, std: 0.00485, params: {'subsample': 0.9}],\n",
       " {'subsample': 0.9},\n",
       " 0.76231630491894509)"
      ]
     },
     "execution_count": 39,
     "metadata": {},
     "output_type": "execute_result"
    }
   ],
   "source": [
    "gsearch5.grid_scores_, gsearch5.best_params_, gsearch5.best_score_"
   ]
  },
  {
   "cell_type": "code",
   "execution_count": 40,
   "metadata": {
    "collapsed": false
   },
   "outputs": [
    {
     "data": {
      "text/plain": [
       "GradientBoostingClassifier(init=None, learning_rate=0.1, loss='deviance',\n",
       "              max_depth=7, max_features=7, max_leaf_nodes=None,\n",
       "              min_samples_leaf=30, min_samples_split=1000,\n",
       "              min_weight_fraction_leaf=0.0, n_estimators=50,\n",
       "              presort='auto', random_state=10, subsample=0.9, verbose=0,\n",
       "              warm_start=False)"
      ]
     },
     "execution_count": 40,
     "metadata": {},
     "output_type": "execute_result"
    }
   ],
   "source": [
    "gsearch5.best_estimator_"
   ]
  },
  {
   "cell_type": "markdown",
   "metadata": {},
   "source": [
    "#### Final Model"
   ]
  },
  {
   "cell_type": "code",
   "execution_count": 41,
   "metadata": {
    "collapsed": true
   },
   "outputs": [],
   "source": [
    "gradboost2 = GradientBoostingClassifier(init=None, learning_rate=0.1, loss='deviance',\n",
    "              max_depth=7, max_features=7, max_leaf_nodes=None,\n",
    "              min_samples_leaf=30, min_samples_split=1000,\n",
    "              min_weight_fraction_leaf=0.0, n_estimators=50,\n",
    "              presort='auto', random_state=10, subsample=0.9, verbose=0,\n",
    "              warm_start=False)"
   ]
  },
  {
   "cell_type": "code",
   "execution_count": 43,
   "metadata": {
    "collapsed": false
   },
   "outputs": [
    {
     "data": {
      "text/plain": [
       "GradientBoostingClassifier(init=None, learning_rate=0.1, loss='deviance',\n",
       "              max_depth=7, max_features=7, max_leaf_nodes=None,\n",
       "              min_samples_leaf=30, min_samples_split=1000,\n",
       "              min_weight_fraction_leaf=0.0, n_estimators=50,\n",
       "              presort='auto', random_state=10, subsample=0.9, verbose=0,\n",
       "              warm_start=False)"
      ]
     },
     "execution_count": 43,
     "metadata": {},
     "output_type": "execute_result"
    }
   ],
   "source": [
    "gradboost2.fit(X_train, y_train, sample_weight=np.array([3 if i==1 else 1 for i in y_train]))"
   ]
  },
  {
   "cell_type": "code",
   "execution_count": 44,
   "metadata": {
    "collapsed": false
   },
   "outputs": [
    {
     "name": "stdout",
     "output_type": "stream",
     "text": [
      "Accuracy score:\t 0.760624155516\n",
      "Precision:\t 0.374728397125\n",
      "Recall:\t\t 0.56148259454\n"
     ]
    }
   ],
   "source": [
    "gradboost_predict2 = gradboost2.predict(X_test)\n",
    "accuracy = accuracy_score(y_test, gradboost_predict2)\n",
    "precision = precision_score(y_test, gradboost_predict2, average='binary')\n",
    "recall = recall_score(y_test, gradboost_predict2, average='binary')\n",
    "print(\"Accuracy score:\\t\", accuracy)\n",
    "print(\"Precision:\\t\", precision)\n",
    "print(\"Recall:\\t\\t\", recall)"
   ]
  },
  {
   "cell_type": "code",
   "execution_count": 46,
   "metadata": {
    "collapsed": false
   },
   "outputs": [
    {
     "name": "stdout",
     "output_type": "stream",
     "text": [
      "AUC:\t 0.767483326692\n"
     ]
    }
   ],
   "source": [
    "y_scores = gradboost2.predict_proba(X_test)[:,1]\n",
    "fpr, tpr, thresholds = roc_curve(y_test, y_scores)\n",
    "auc = roc_auc_score(y_test, y_scores)\n",
    "print(\"AUC:\\t\", auc)"
   ]
  },
  {
   "cell_type": "code",
   "execution_count": 47,
   "metadata": {
    "collapsed": false
   },
   "outputs": [
    {
     "data": {
      "image/png": "[encoded data removed]",
      "text/plain": [
       "<matplotlib.figure.Figure at 0x1650fffd0>"
      ]
     },
     "metadata": {},
     "output_type": "display_data"
    }
   ],
   "source": [
    "rank_features(gradboost2)"
   ]
  },
  {
   "cell_type": "code",
   "execution_count": 151,
   "metadata": {
    "collapsed": false
   },
   "outputs": [
    {
     "data": {
      "image/png": "[encoded data removed]",
      "text/plain": [
       "<matplotlib.figure.Figure at 0x136d98550>"
      ]
     },
     "metadata": {},
     "output_type": "display_data"
    }
   ],
   "source": [
    "# Get Feature Importance from the classifier\n",
    "feature_importance = gradboost3.feature_importances_\n",
    "# Normalize The Features\n",
    "feature_importance = 100.0 * (feature_importance / feature_importance.max())\n",
    "sorted_idx = np.argsort(feature_importance)\n",
    "pos = np.arange(sorted_idx.shape[0]) + .5\n",
    "plt.figure(figsize=(12, 8))\n",
    "plt.barh(pos, feature_importance[sorted_idx], align='center')\n",
    "plt.yticks(pos, np.asanyarray(cleanDF.columns.tolist())[sorted_idx])\n",
    "plt.xlabel('Relative Importance')\n",
    "plt.title('Feature Importance')\n",
    "plt.show()"
   ]
  },
  {
   "cell_type": "markdown",
   "metadata": {},
   "source": [
    "#### Trying with some XG Boosted Trees"
   ]
  },
  {
   "cell_type": "code",
   "execution_count": 48,
   "metadata": {
    "collapsed": true
   },
   "outputs": [],
   "source": [
    "# Out of the box\n",
    "xgboost = XGBClassifier(base_score=0.5, colsample_bylevel=1, colsample_bytree=0.8,\n",
    "       gamma=0, learning_rate=0.1, max_delta_step=0, max_depth=5,\n",
    "       min_child_weight=1, missing=None, n_estimators=100, nthread=-1,\n",
    "       objective='binary:logistic', reg_alpha=0, reg_lambda=1,\n",
    "       scale_pos_weight=1, seed=27, silent=True, subsample=1)"
   ]
  },
  {
   "cell_type": "code",
   "execution_count": 49,
   "metadata": {
    "collapsed": false
   },
   "outputs": [
    {
     "data": {
      "text/plain": [
       "XGBClassifier(base_score=0.5, colsample_bylevel=1, colsample_bytree=0.8,\n",
       "       gamma=0, learning_rate=0.1, max_delta_step=0, max_depth=5,\n",
       "       min_child_weight=1, missing=None, n_estimators=100, nthread=-1,\n",
       "       objective='binary:logistic', reg_alpha=0, reg_lambda=1,\n",
       "       scale_pos_weight=1, seed=27, silent=True, subsample=1)"
      ]
     },
     "execution_count": 49,
     "metadata": {},
     "output_type": "execute_result"
    }
   ],
   "source": [
    "xgboost.fit(X_train, y_train, sample_weight=np.array([3 if i==1 else 1 for i in y_train]))"
   ]
  },
  {
   "cell_type": "code",
   "execution_count": 50,
   "metadata": {
    "collapsed": false
   },
   "outputs": [
    {
     "name": "stdout",
     "output_type": "stream",
     "text": [
      "Accuracy score:\t 0.762193261561\n",
      "Precision:\t 0.37561639177\n",
      "Recall:\t\t 0.553218131731\n"
     ]
    }
   ],
   "source": [
    "xgboost_predict = xgboost.predict(X_test)\n",
    "accuracy = accuracy_score(y_test, xgboost_predict)\n",
    "precision = precision_score(y_test, xgboost_predict, average='binary')\n",
    "recall = recall_score(y_test, xgboost_predict, average='binary')\n",
    "print(\"Accuracy score:\\t\", accuracy)\n",
    "print(\"Precision:\\t\", precision)\n",
    "print(\"Recall:\\t\\t\", recall)"
   ]
  },
  {
   "cell_type": "code",
   "execution_count": 51,
   "metadata": {
    "collapsed": false
   },
   "outputs": [
    {
     "name": "stdout",
     "output_type": "stream",
     "text": [
      "AUC:\t 0.765521569078\n"
     ]
    }
   ],
   "source": [
    "y_scores = xgboost.predict_proba(X_test)[:,1]\n",
    "fpr, tpr, thresholds = roc_curve(y_test, y_scores)\n",
    "auc = roc_auc_score(y_test, y_scores)\n",
    "print(\"AUC:\\t\", auc)"
   ]
  },
  {
   "cell_type": "markdown",
   "metadata": {},
   "source": [
    "#### XGBoost with Grid Search Cross-Validation"
   ]
  },
  {
   "cell_type": "code",
   "execution_count": 52,
   "metadata": {
    "collapsed": false
   },
   "outputs": [
    {
     "data": {
      "text/plain": [
       "([mean: 0.76336, std: 0.00450, params: {'min_child_weight': 1, 'max_depth': 3},\n",
       "  mean: 0.76332, std: 0.00435, params: {'min_child_weight': 3, 'max_depth': 3},\n",
       "  mean: 0.76323, std: 0.00480, params: {'min_child_weight': 5, 'max_depth': 3},\n",
       "  mean: 0.76089, std: 0.00522, params: {'min_child_weight': 1, 'max_depth': 5},\n",
       "  mean: 0.76088, std: 0.00513, params: {'min_child_weight': 3, 'max_depth': 5},\n",
       "  mean: 0.76094, std: 0.00497, params: {'min_child_weight': 5, 'max_depth': 5},\n",
       "  mean: 0.75279, std: 0.00546, params: {'min_child_weight': 1, 'max_depth': 7},\n",
       "  mean: 0.75328, std: 0.00565, params: {'min_child_weight': 3, 'max_depth': 7},\n",
       "  mean: 0.75380, std: 0.00578, params: {'min_child_weight': 5, 'max_depth': 7},\n",
       "  mean: 0.73945, std: 0.00707, params: {'min_child_weight': 1, 'max_depth': 9},\n",
       "  mean: 0.74064, std: 0.00559, params: {'min_child_weight': 3, 'max_depth': 9},\n",
       "  mean: 0.74248, std: 0.00646, params: {'min_child_weight': 5, 'max_depth': 9}],\n",
       " {'max_depth': 3, 'min_child_weight': 1},\n",
       " 0.76336310815051078)"
      ]
     },
     "execution_count": 52,
     "metadata": {},
     "output_type": "execute_result"
    }
   ],
   "source": [
    "param_test1 = {\n",
    " 'max_depth': [3,5,7,9],\n",
    " 'min_child_weight': [1,3,5]\n",
    "}\n",
    "gsearch1 = GridSearchCV(estimator = XGBClassifier( learning_rate =0.1, n_estimators=140, max_depth=5,\n",
    " min_child_weight=1, gamma=0, subsample=0.8, colsample_bytree=0.8,\n",
    " objective= 'binary:logistic', nthread=4, scale_pos_weight=1, seed=27), \n",
    " param_grid = param_test1, scoring='roc_auc',n_jobs=4,iid=False, cv=5)\n",
    "gsearch1.fit(X_train, y_train)\n",
    "gsearch1.grid_scores_, gsearch1.best_params_, gsearch1.best_score_"
   ]
  },
  {
   "cell_type": "code",
   "execution_count": 53,
   "metadata": {
    "collapsed": false
   },
   "outputs": [
    {
     "data": {
      "text/plain": [
       "([mean: 0.76315, std: 0.00497, params: {'min_child_weight': 4, 'max_depth': 4},\n",
       "  mean: 0.76315, std: 0.00501, params: {'min_child_weight': 5, 'max_depth': 4},\n",
       "  mean: 0.76267, std: 0.00504, params: {'min_child_weight': 6, 'max_depth': 4},\n",
       "  mean: 0.76083, std: 0.00522, params: {'min_child_weight': 4, 'max_depth': 5},\n",
       "  mean: 0.76094, std: 0.00497, params: {'min_child_weight': 5, 'max_depth': 5},\n",
       "  mean: 0.76070, std: 0.00500, params: {'min_child_weight': 6, 'max_depth': 5},\n",
       "  mean: 0.75813, std: 0.00526, params: {'min_child_weight': 4, 'max_depth': 6},\n",
       "  mean: 0.75816, std: 0.00536, params: {'min_child_weight': 5, 'max_depth': 6},\n",
       "  mean: 0.75785, std: 0.00548, params: {'min_child_weight': 6, 'max_depth': 6}],\n",
       " {'max_depth': 4, 'min_child_weight': 4},\n",
       " 0.76314751078879473)"
      ]
     },
     "execution_count": 53,
     "metadata": {},
     "output_type": "execute_result"
    }
   ],
   "source": [
    "param_test2 = {\n",
    " 'max_depth': [4,5,6],\n",
    " 'min_child_weight': [4,5,6]\n",
    "}\n",
    "gsearch2 = GridSearchCV(estimator = XGBClassifier( learning_rate =0.1, n_estimators=140, max_depth=3,\n",
    " min_child_weight=1, gamma=0, subsample=0.8, colsample_bytree=0.8,\n",
    " objective= 'binary:logistic', nthread=4, scale_pos_weight=1, seed=27), \n",
    " param_grid = param_test2, scoring='roc_auc',n_jobs=4,iid=False, cv=5)\n",
    "gsearch2.fit(X_train, y_train)\n",
    "gsearch2.grid_scores_, gsearch2.best_params_, gsearch2.best_score_"
   ]
  },
  {
   "cell_type": "code",
   "execution_count": 54,
   "metadata": {
    "collapsed": false
   },
   "outputs": [
    {
     "data": {
      "text/plain": [
       "([mean: 0.76315, std: 0.00497, params: {'gamma': 0.0},\n",
       "  mean: 0.76295, std: 0.00499, params: {'gamma': 0.1},\n",
       "  mean: 0.76282, std: 0.00506, params: {'gamma': 0.2},\n",
       "  mean: 0.76300, std: 0.00494, params: {'gamma': 0.3},\n",
       "  mean: 0.76317, std: 0.00465, params: {'gamma': 0.4}],\n",
       " {'gamma': 0.4},\n",
       " 0.76317461673381515)"
      ]
     },
     "execution_count": 54,
     "metadata": {},
     "output_type": "execute_result"
    }
   ],
   "source": [
    "param_test3 = {\n",
    " 'gamma':[i/10.0 for i in range(0,5)]\n",
    "}\n",
    "gsearch3 = GridSearchCV(estimator = XGBClassifier( learning_rate =0.1, n_estimators=140, max_depth=4,\n",
    " min_child_weight=4, gamma=0, subsample=0.8, colsample_bytree=0.8,\n",
    " objective= 'binary:logistic', nthread=4, scale_pos_weight=1,seed=27), \n",
    " param_grid = param_test3, scoring='roc_auc',n_jobs=4,iid=False, cv=5)\n",
    "gsearch3.fit(X_train, y_train)\n",
    "gsearch3.grid_scores_, gsearch3.best_params_, gsearch3.best_score_"
   ]
  },
  {
   "cell_type": "code",
   "execution_count": 55,
   "metadata": {
    "collapsed": true
   },
   "outputs": [],
   "source": [
    "# with tuned parameters from GridSearch\n",
    "xgboost2 = XGBClassifier(base_score=0.5, colsample_bylevel=1, colsample_bytree=0.8,\n",
    "       gamma=0.4, learning_rate=0.01, max_delta_step=0, max_depth=4,\n",
    "       min_child_weight=4, missing=None, n_estimators=1000, nthread=-1,\n",
    "       objective='binary:logistic', reg_alpha=0.005, reg_lambda=1,\n",
    "       scale_pos_weight=1, seed=27, silent=True, subsample=1)"
   ]
  },
  {
   "cell_type": "code",
   "execution_count": 57,
   "metadata": {
    "collapsed": false
   },
   "outputs": [
    {
     "data": {
      "text/plain": [
       "XGBClassifier(base_score=0.5, colsample_bylevel=1, colsample_bytree=0.8,\n",
       "       gamma=0.4, learning_rate=0.01, max_delta_step=0, max_depth=4,\n",
       "       min_child_weight=4, missing=None, n_estimators=1000, nthread=-1,\n",
       "       objective='binary:logistic', reg_alpha=0.005, reg_lambda=1,\n",
       "       scale_pos_weight=1, seed=27, silent=True, subsample=1)"
      ]
     },
     "execution_count": 57,
     "metadata": {},
     "output_type": "execute_result"
    }
   ],
   "source": [
    "xgboost2.fit(X_train, y_train, sample_weight=np.array([3 if i==1 else 1 for i in y_train]))"
   ]
  },
  {
   "cell_type": "code",
   "execution_count": 58,
   "metadata": {
    "collapsed": false
   },
   "outputs": [
    {
     "name": "stdout",
     "output_type": "stream",
     "text": [
      "Accuracy score:\t 0.761583053655\n",
      "Precision:\t 0.375652466745\n",
      "Recall:\t\t 0.558727773604\n"
     ]
    }
   ],
   "source": [
    "xgboost_predict2 = xgboost2.predict(X_test)\n",
    "accuracy = accuracy_score(y_test, xgboost_predict2)\n",
    "precision = precision_score(y_test, xgboost_predict2, average='binary')\n",
    "recall = recall_score(y_test, xgboost_predict2, average='binary')\n",
    "print(\"Accuracy score:\\t\", accuracy)\n",
    "print(\"Precision:\\t\", precision)\n",
    "print(\"Recall:\\t\\t\", recall)"
   ]
  },
  {
   "cell_type": "code",
   "execution_count": 59,
   "metadata": {
    "collapsed": false
   },
   "outputs": [
    {
     "name": "stdout",
     "output_type": "stream",
     "text": [
      "AUC:\t 0.766889814431\n"
     ]
    }
   ],
   "source": [
    "y_scores = xgboost2.predict_proba(X_test)[:,1]\n",
    "fpr, tpr, thresholds = roc_curve(y_test, y_scores)\n",
    "auc = roc_auc_score(y_test, y_scores)\n",
    "print(\"AUC:\\t\", auc)"
   ]
  }
 ],
 "metadata": {
  "kernelspec": {
   "display_name": "Python 3",
   "language": "python",
   "name": "python3"
  },
  "language_info": {
   "codemirror_mode": {
    "name": "ipython",
    "version": 3
   },
   "file_extension": ".py",
   "mimetype": "text/x-python",
   "name": "python",
   "nbconvert_exporter": "python",
   "pygments_lexer": "ipython3",
   "version": "3.5.0"
  }
 },
 "nbformat": 4,
 "nbformat_minor": 0
}
